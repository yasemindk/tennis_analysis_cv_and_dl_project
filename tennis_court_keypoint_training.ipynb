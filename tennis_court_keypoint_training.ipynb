{
  "nbformat": 4,
  "nbformat_minor": 0,
  "metadata": {
    "colab": {
      "provenance": [],
      "gpuType": "T4"
    },
    "kernelspec": {
      "name": "python3",
      "display_name": "Python 3"
    },
    "language_info": {
      "name": "python"
    },
    "accelerator": "GPU"
  },
  "cells": [
    {
      "cell_type": "code",
      "source": [
        "!unzip /content/drive/MyDrive/tennis_court_det_dataset.zip\n",
        "#https://drive.google.com/file/d/1lhAaeQCmk2y440PmagA0KmIVBIysVMwu/view"
      ],
      "metadata": {
        "id": "PNwU65bboWXK"
      },
      "execution_count": null,
      "outputs": []
    },
    {
      "cell_type": "code",
      "source": [
        "import torch\n",
        "from torch.utils.data import Dataset, DataLoader\n",
        "from torchvision import models, transforms\n",
        "import cv2\n",
        "import json\n",
        "from PIL import Image\n",
        "import numpy as np"
      ],
      "metadata": {
        "id": "_6bIvamXoZRz"
      },
      "execution_count": null,
      "outputs": []
    },
    {
      "cell_type": "code",
      "source": [
        "device = torch.device('cuda' if torch.cuda.is_available() else 'cpu')\n"
      ],
      "metadata": {
        "id": "xd3t0dc_ovSf"
      },
      "execution_count": null,
      "outputs": []
    },
    {
      "cell_type": "markdown",
      "source": [
        "# create torch dataset"
      ],
      "metadata": {
        "id": "snn5MomLozuA"
      }
    },
    {
      "cell_type": "code",
      "source": [
        "class KeypointsDataset(Dataset):\n",
        "    def __init__(self, img_dir, data_file):\n",
        "        self.img_dir = img_dir\n",
        "        with open(data_file,\"r\") as f:\n",
        "            self.data = json.load(f)\n",
        "\n",
        "        self.transforms = transforms.Compose([\n",
        "            transforms.ToPILImage(),\n",
        "            transforms.Resize((224, 224)),\n",
        "            transforms.ToTensor(),\n",
        "            transforms.Normalize(mean=[0.485, 0.456, 0.406], std=[0.229, 0.224, 0.225])\n",
        "\n",
        "        ])\n",
        "\n",
        "    def __len__(self):\n",
        "        return len(self.data)\n",
        "\n",
        "    def __getitem__(self, idx):\n",
        "        item = self.data[idx]\n",
        "        img = cv2.imread(f\"{self.img_dir}/{item['id']}.png\")\n",
        "        h,w = img.shape[:2]\n",
        "        img = cv2.cvtColor(img, cv2.COLOR_BGR2RGB)\n",
        "        img = self.transforms(img)\n",
        "        kps = np.array(item[\"kps\"]).flatten()\n",
        "        kps = kps.astype(np.float32)\n",
        "        kps[::2] *= 224.0 / w # adjust x coord\n",
        "        kps[1::2] *= 224.0 / h # adjust y coord\n",
        "        return img, kps"
      ],
      "metadata": {
        "id": "3_bRiDmmo1JY"
      },
      "execution_count": null,
      "outputs": []
    },
    {
      "cell_type": "code",
      "source": [
        "train_dataset = KeypointsDataset(\"data/images\",\"data/data_train.json\")\n",
        "val_dataset = KeypointsDataset(\"data/images\",\"data/data_val.json\")\n",
        "\n",
        "train_loader = DataLoader(train_dataset, batch_size=8, shuffle=True)\n",
        "val_loader = DataLoader(val_dataset, batch_size=8, shuffle=False)"
      ],
      "metadata": {
        "id": "Eph0Ta-CuTHQ"
      },
      "execution_count": null,
      "outputs": []
    },
    {
      "cell_type": "markdown",
      "source": [
        "# Create model"
      ],
      "metadata": {
        "id": "ZFopNEVJuwDM"
      }
    },
    {
      "cell_type": "code",
      "source": [
        "model = models.resnet50(pretrained=True)\n",
        "model.fc = torch.nn.Linear(model.fc.in_features, 14*2) # replace the last layer fc: fully connected layer\n",
        "# we have 14 keypoints and each points has x and y\n",
        "model = model.to(device)"
      ],
      "metadata": {
        "colab": {
          "base_uri": "https://localhost:8080/"
        },
        "id": "137e8RqGuw_8",
        "outputId": "24717a2c-e146-4bec-af03-92a8e4bf61c8"
      },
      "execution_count": null,
      "outputs": [
        {
          "output_type": "stream",
          "name": "stderr",
          "text": [
            "/usr/local/lib/python3.10/dist-packages/torchvision/models/_utils.py:208: UserWarning: The parameter 'pretrained' is deprecated since 0.13 and may be removed in the future, please use 'weights' instead.\n",
            "  warnings.warn(\n",
            "/usr/local/lib/python3.10/dist-packages/torchvision/models/_utils.py:223: UserWarning: Arguments other than a weight enum or `None` for 'weights' are deprecated since 0.13 and may be removed in the future. The current behavior is equivalent to passing `weights=ResNet50_Weights.IMAGENET1K_V1`. You can also use `weights=ResNet50_Weights.DEFAULT` to get the most up-to-date weights.\n",
            "  warnings.warn(msg)\n",
            "Downloading: \"https://download.pytorch.org/models/resnet50-0676ba61.pth\" to /root/.cache/torch/hub/checkpoints/resnet50-0676ba61.pth\n",
            "100%|██████████| 97.8M/97.8M [00:00<00:00, 122MB/s]\n"
          ]
        }
      ]
    },
    {
      "cell_type": "markdown",
      "source": [
        "# Train model"
      ],
      "metadata": {
        "id": "_Pqz8fXvvVyI"
      }
    },
    {
      "cell_type": "code",
      "source": [
        "criterion = torch.nn.MSELoss()\n",
        "optimizer = torch.optim.Adam(model.parameters(), lr=1e-4)\n",
        "epochs = 10\n",
        "for epoch in range(epochs):\n",
        "    for i, (imgs,kps) in enumerate(train_loader):\n",
        "        imgs = imgs.to(device)\n",
        "        kps = kps.to(device)\n",
        "\n",
        "        optimizer.zero_grad()\n",
        "        outputs = model(imgs)\n",
        "        loss = criterion(outputs, kps)\n",
        "        loss.backward()\n",
        "        optimizer.step()\n",
        "\n",
        "        if i%100 == 0:\n",
        "            print(f\"Epoch {epoch+1}/{epochs}, Step {i+1}/{len(train_loader)}, Loss: {loss.item()}\")"
      ],
      "metadata": {
        "colab": {
          "base_uri": "https://localhost:8080/"
        },
        "id": "6CrMcjF5vZNF",
        "outputId": "7012d918-49e8-4757-a2cc-95c5ded88d70"
      },
      "execution_count": null,
      "outputs": [
        {
          "output_type": "stream",
          "name": "stdout",
          "text": [
            "Epoch 1/10, Step 1/829, Loss: 15272.8642578125\n",
            "Epoch 1/10, Step 101/829, Loss: 11448.4072265625\n",
            "Epoch 1/10, Step 201/829, Loss: 7846.11767578125\n",
            "Epoch 1/10, Step 301/829, Loss: 5520.09228515625\n",
            "Epoch 1/10, Step 401/829, Loss: 3392.70166015625\n",
            "Epoch 1/10, Step 501/829, Loss: 1963.59326171875\n",
            "Epoch 1/10, Step 601/829, Loss: 1059.955810546875\n",
            "Epoch 1/10, Step 701/829, Loss: 555.0203857421875\n",
            "Epoch 1/10, Step 801/829, Loss: 290.1620178222656\n",
            "Epoch 2/10, Step 1/829, Loss: 198.50535583496094\n",
            "Epoch 2/10, Step 101/829, Loss: 92.41991424560547\n",
            "Epoch 2/10, Step 201/829, Loss: 68.82637786865234\n",
            "Epoch 2/10, Step 301/829, Loss: 69.046630859375\n",
            "Epoch 2/10, Step 401/829, Loss: 28.460304260253906\n",
            "Epoch 2/10, Step 501/829, Loss: 39.4101676940918\n",
            "Epoch 2/10, Step 601/829, Loss: 31.199886322021484\n",
            "Epoch 2/10, Step 701/829, Loss: 32.50458908081055\n",
            "Epoch 2/10, Step 801/829, Loss: 20.02859115600586\n",
            "Epoch 3/10, Step 1/829, Loss: 57.51396942138672\n",
            "Epoch 3/10, Step 101/829, Loss: 27.276966094970703\n",
            "Epoch 3/10, Step 201/829, Loss: 26.174470901489258\n",
            "Epoch 3/10, Step 301/829, Loss: 31.875900268554688\n",
            "Epoch 3/10, Step 401/829, Loss: 12.4136381149292\n",
            "Epoch 3/10, Step 501/829, Loss: 18.30866813659668\n",
            "Epoch 3/10, Step 601/829, Loss: 31.927675247192383\n",
            "Epoch 3/10, Step 701/829, Loss: 21.257349014282227\n",
            "Epoch 3/10, Step 801/829, Loss: 27.088891983032227\n",
            "Epoch 4/10, Step 1/829, Loss: 21.94202423095703\n",
            "Epoch 4/10, Step 101/829, Loss: 16.123722076416016\n",
            "Epoch 4/10, Step 201/829, Loss: 11.106730461120605\n",
            "Epoch 4/10, Step 301/829, Loss: 17.575681686401367\n",
            "Epoch 4/10, Step 401/829, Loss: 36.154991149902344\n",
            "Epoch 4/10, Step 501/829, Loss: 13.390580177307129\n",
            "Epoch 4/10, Step 601/829, Loss: 11.496907234191895\n",
            "Epoch 4/10, Step 701/829, Loss: 21.33283805847168\n",
            "Epoch 4/10, Step 801/829, Loss: 21.586780548095703\n",
            "Epoch 5/10, Step 1/829, Loss: 50.12627410888672\n",
            "Epoch 5/10, Step 101/829, Loss: 19.468856811523438\n",
            "Epoch 5/10, Step 201/829, Loss: 6.516768455505371\n",
            "Epoch 5/10, Step 301/829, Loss: 7.48281717300415\n",
            "Epoch 5/10, Step 401/829, Loss: 16.71161651611328\n",
            "Epoch 5/10, Step 501/829, Loss: 115.1627426147461\n",
            "Epoch 5/10, Step 601/829, Loss: 119.68232727050781\n",
            "Epoch 5/10, Step 701/829, Loss: 7.436517238616943\n",
            "Epoch 5/10, Step 801/829, Loss: 8.92798900604248\n",
            "Epoch 6/10, Step 1/829, Loss: 6.743278980255127\n",
            "Epoch 6/10, Step 101/829, Loss: 28.563751220703125\n",
            "Epoch 6/10, Step 201/829, Loss: 11.021249771118164\n",
            "Epoch 6/10, Step 301/829, Loss: 9.27937126159668\n",
            "Epoch 6/10, Step 401/829, Loss: 6.975930690765381\n",
            "Epoch 6/10, Step 501/829, Loss: 6.984532356262207\n",
            "Epoch 6/10, Step 601/829, Loss: 13.641982078552246\n",
            "Epoch 6/10, Step 701/829, Loss: 5.846862316131592\n",
            "Epoch 6/10, Step 801/829, Loss: 5.305808067321777\n",
            "Epoch 7/10, Step 1/829, Loss: 9.083620071411133\n",
            "Epoch 7/10, Step 101/829, Loss: 8.727882385253906\n",
            "Epoch 7/10, Step 201/829, Loss: 1.3503061532974243\n",
            "Epoch 7/10, Step 301/829, Loss: 27.80117416381836\n",
            "Epoch 7/10, Step 401/829, Loss: 4.961989879608154\n",
            "Epoch 7/10, Step 501/829, Loss: 1.5349677801132202\n",
            "Epoch 7/10, Step 601/829, Loss: 4.98112678527832\n",
            "Epoch 7/10, Step 701/829, Loss: 3.8455939292907715\n",
            "Epoch 7/10, Step 801/829, Loss: 6.7095046043396\n",
            "Epoch 8/10, Step 1/829, Loss: 6.864665985107422\n",
            "Epoch 8/10, Step 101/829, Loss: 4.359360694885254\n",
            "Epoch 8/10, Step 201/829, Loss: 2.357511043548584\n",
            "Epoch 8/10, Step 301/829, Loss: 4.158179759979248\n",
            "Epoch 8/10, Step 401/829, Loss: 7.955506324768066\n",
            "Epoch 8/10, Step 501/829, Loss: 4.684933662414551\n",
            "Epoch 8/10, Step 601/829, Loss: 4.461760997772217\n",
            "Epoch 8/10, Step 701/829, Loss: 7.814414978027344\n",
            "Epoch 8/10, Step 801/829, Loss: 2.7559926509857178\n",
            "Epoch 9/10, Step 1/829, Loss: 25.239521026611328\n",
            "Epoch 9/10, Step 101/829, Loss: 3.8538384437561035\n",
            "Epoch 9/10, Step 201/829, Loss: 2.0819530487060547\n",
            "Epoch 9/10, Step 301/829, Loss: 10.61707592010498\n",
            "Epoch 9/10, Step 401/829, Loss: 8.797623634338379\n",
            "Epoch 9/10, Step 501/829, Loss: 4.0408124923706055\n",
            "Epoch 9/10, Step 601/829, Loss: 2.7086727619171143\n",
            "Epoch 9/10, Step 701/829, Loss: 1.481533169746399\n",
            "Epoch 9/10, Step 801/829, Loss: 26.60078239440918\n",
            "Epoch 10/10, Step 1/829, Loss: 2.7843029499053955\n",
            "Epoch 10/10, Step 101/829, Loss: 7.488492012023926\n",
            "Epoch 10/10, Step 201/829, Loss: 3.0245471000671387\n",
            "Epoch 10/10, Step 301/829, Loss: 3.1178300380706787\n",
            "Epoch 10/10, Step 401/829, Loss: 22.059612274169922\n",
            "Epoch 10/10, Step 501/829, Loss: 4.010260581970215\n",
            "Epoch 10/10, Step 601/829, Loss: 7.367477893829346\n",
            "Epoch 10/10, Step 701/829, Loss: 2.0645036697387695\n",
            "Epoch 10/10, Step 801/829, Loss: 1.6846948862075806\n"
          ]
        }
      ]
    },
    {
      "cell_type": "code",
      "source": [
        "torch.save(model.state_dict(), \"keypoints_model.pth\")"
      ],
      "metadata": {
        "id": "f2QT7wDQw8wB"
      },
      "execution_count": null,
      "outputs": []
    },
    {
      "cell_type": "code",
      "source": [],
      "metadata": {
        "id": "2rs0pmGxD-B8"
      },
      "execution_count": null,
      "outputs": []
    }
  ]
}